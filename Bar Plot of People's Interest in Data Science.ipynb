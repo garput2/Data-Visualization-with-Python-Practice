{
 "cells": [
  {
   "cell_type": "markdown",
   "metadata": {},
   "source": [
    "# Bar Plot of People's Interest in Data Science"
   ]
  },
  {
   "cell_type": "markdown",
   "metadata": {},
   "source": [
    "This is a data visualization practice in visualizing people's interest in data science with bar plot"
   ]
  },
  {
   "cell_type": "code",
   "execution_count": 6,
   "metadata": {},
   "outputs": [],
   "source": [
    "#import the necessary library\n",
    "import pandas as pd\n",
    "import numpy as np"
   ]
  },
  {
   "cell_type": "code",
   "execution_count": 3,
   "metadata": {},
   "outputs": [
    {
     "data": {
      "text/html": [
       "<div>\n",
       "<style scoped>\n",
       "    .dataframe tbody tr th:only-of-type {\n",
       "        vertical-align: middle;\n",
       "    }\n",
       "\n",
       "    .dataframe tbody tr th {\n",
       "        vertical-align: top;\n",
       "    }\n",
       "\n",
       "    .dataframe thead th {\n",
       "        text-align: right;\n",
       "    }\n",
       "</style>\n",
       "<table border=\"1\" class=\"dataframe\">\n",
       "  <thead>\n",
       "    <tr style=\"text-align: right;\">\n",
       "      <th></th>\n",
       "      <th>Very interested</th>\n",
       "      <th>Somewhat interested</th>\n",
       "      <th>Not interested</th>\n",
       "    </tr>\n",
       "  </thead>\n",
       "  <tbody>\n",
       "    <tr>\n",
       "      <td>Big Data (Spark / Hadoop)</td>\n",
       "      <td>1332</td>\n",
       "      <td>729</td>\n",
       "      <td>127</td>\n",
       "    </tr>\n",
       "    <tr>\n",
       "      <td>Data Analysis / Statistics</td>\n",
       "      <td>1688</td>\n",
       "      <td>444</td>\n",
       "      <td>60</td>\n",
       "    </tr>\n",
       "    <tr>\n",
       "      <td>Data Journalism</td>\n",
       "      <td>429</td>\n",
       "      <td>1081</td>\n",
       "      <td>610</td>\n",
       "    </tr>\n",
       "    <tr>\n",
       "      <td>Data Visualization</td>\n",
       "      <td>1340</td>\n",
       "      <td>734</td>\n",
       "      <td>102</td>\n",
       "    </tr>\n",
       "    <tr>\n",
       "      <td>Deep Learning</td>\n",
       "      <td>1263</td>\n",
       "      <td>770</td>\n",
       "      <td>136</td>\n",
       "    </tr>\n",
       "    <tr>\n",
       "      <td>Machine Learning</td>\n",
       "      <td>1629</td>\n",
       "      <td>477</td>\n",
       "      <td>74</td>\n",
       "    </tr>\n",
       "  </tbody>\n",
       "</table>\n",
       "</div>"
      ],
      "text/plain": [
       "                            Very interested  Somewhat interested  \\\n",
       "Big Data (Spark / Hadoop)              1332                  729   \n",
       "Data Analysis / Statistics             1688                  444   \n",
       "Data Journalism                         429                 1081   \n",
       "Data Visualization                     1340                  734   \n",
       "Deep Learning                          1263                  770   \n",
       "Machine Learning                       1629                  477   \n",
       "\n",
       "                            Not interested  \n",
       "Big Data (Spark / Hadoop)              127  \n",
       "Data Analysis / Statistics              60  \n",
       "Data Journalism                        610  \n",
       "Data Visualization                     102  \n",
       "Deep Learning                          136  \n",
       "Machine Learning                        74  "
      ]
     },
     "execution_count": 3,
     "metadata": {},
     "output_type": "execute_result"
    }
   ],
   "source": [
    "#Importing the file from a csv format in a URL to DataFrame\n",
    "#index_col is used to set the first column as an index, replacing the default numeric index\n",
    "\n",
    "df = pd.read_csv('https://cocl.us/datascience_survey_data', index_col=0)\n",
    "df"
   ]
  },
  {
   "cell_type": "code",
   "execution_count": 4,
   "metadata": {},
   "outputs": [
    {
     "data": {
      "text/html": [
       "<div>\n",
       "<style scoped>\n",
       "    .dataframe tbody tr th:only-of-type {\n",
       "        vertical-align: middle;\n",
       "    }\n",
       "\n",
       "    .dataframe tbody tr th {\n",
       "        vertical-align: top;\n",
       "    }\n",
       "\n",
       "    .dataframe thead th {\n",
       "        text-align: right;\n",
       "    }\n",
       "</style>\n",
       "<table border=\"1\" class=\"dataframe\">\n",
       "  <thead>\n",
       "    <tr style=\"text-align: right;\">\n",
       "      <th></th>\n",
       "      <th>Very interested</th>\n",
       "      <th>Somewhat interested</th>\n",
       "      <th>Not interested</th>\n",
       "    </tr>\n",
       "  </thead>\n",
       "  <tbody>\n",
       "    <tr>\n",
       "      <td>Data Analysis / Statistics</td>\n",
       "      <td>75.59</td>\n",
       "      <td>19.88</td>\n",
       "      <td>2.69</td>\n",
       "    </tr>\n",
       "    <tr>\n",
       "      <td>Machine Learning</td>\n",
       "      <td>72.95</td>\n",
       "      <td>21.36</td>\n",
       "      <td>3.31</td>\n",
       "    </tr>\n",
       "    <tr>\n",
       "      <td>Data Visualization</td>\n",
       "      <td>60.01</td>\n",
       "      <td>32.87</td>\n",
       "      <td>4.57</td>\n",
       "    </tr>\n",
       "    <tr>\n",
       "      <td>Big Data (Spark / Hadoop)</td>\n",
       "      <td>59.65</td>\n",
       "      <td>32.65</td>\n",
       "      <td>5.69</td>\n",
       "    </tr>\n",
       "    <tr>\n",
       "      <td>Deep Learning</td>\n",
       "      <td>56.56</td>\n",
       "      <td>34.48</td>\n",
       "      <td>6.09</td>\n",
       "    </tr>\n",
       "    <tr>\n",
       "      <td>Data Journalism</td>\n",
       "      <td>19.21</td>\n",
       "      <td>48.41</td>\n",
       "      <td>27.32</td>\n",
       "    </tr>\n",
       "  </tbody>\n",
       "</table>\n",
       "</div>"
      ],
      "text/plain": [
       "                            Very interested  Somewhat interested  \\\n",
       "Data Analysis / Statistics            75.59                19.88   \n",
       "Machine Learning                      72.95                21.36   \n",
       "Data Visualization                    60.01                32.87   \n",
       "Big Data (Spark / Hadoop)             59.65                32.65   \n",
       "Deep Learning                         56.56                34.48   \n",
       "Data Journalism                       19.21                48.41   \n",
       "\n",
       "                            Not interested  \n",
       "Data Analysis / Statistics            2.69  \n",
       "Machine Learning                      3.31  \n",
       "Data Visualization                    4.57  \n",
       "Big Data (Spark / Hadoop)             5.69  \n",
       "Deep Learning                         6.09  \n",
       "Data Journalism                      27.32  "
      ]
     },
     "execution_count": 4,
     "metadata": {},
     "output_type": "execute_result"
    }
   ],
   "source": [
    "#We want to format the data to be shown in percentages\n",
    "#First, we sort the DataFrame\n",
    "df.sort_values(by='Very interested', ascending=False, inplace=True)\n",
    "\n",
    "#Then, we convert the values to percentages, with 2 numbers behind decimal\n",
    "df['Very interested']=round(df['Very interested']*100/2233, 2)\n",
    "df['Somewhat interested']=round(df['Somewhat interested']*100/2233, 2)\n",
    "df['Not interested']=round(df['Not interested']*100/2233, 2)\n",
    "df"
   ]
  },
  {
   "cell_type": "code",
   "execution_count": 7,
   "metadata": {},
   "outputs": [
    {
     "data": {
      "text/plain": [
       "<matplotlib.axes._subplots.AxesSubplot at 0x2874d9d4148>"
      ]
     },
     "execution_count": 7,
     "metadata": {},
     "output_type": "execute_result"
    },
    {
     "data": {
      "image/png": "[encoded data removed]",
      "text/plain": [
       "<Figure size 1440x576 with 1 Axes>"
      ]
     },
     "metadata": {
      "needs_background": "light"
     },
     "output_type": "display_data"
    }
   ],
   "source": [
    "#It's time to plot!\n",
    "#Let's use bar plot with specified color, width, figure size, and font size\n",
    "ax = df.plot(kind='bar', width=0.8, color=['#5cb85c', '#5bc0de', '#d9534f'], fontsize=14, figsize=(20, 8))\n",
    "\n",
    "#Then we set the title and create a legend\n",
    "ax.set_title('Percentage of Respondents\\' Interest in Data Science Areas', fontsize=16)\n",
    "ax.legend(fontsize=14)\n",
    "\n",
    "#For aesthetic purposes, let's make the top, right, and left border invisible\n",
    "ax.spines['top'].set_visible(False)\n",
    "ax.spines['right'].set_visible(False) \n",
    "ax.spines['left'].set_visible(False)\n",
    "\n",
    "#Then we erase the ticks on y axis\n",
    "ax.get_yaxis().set_ticks([])\n",
    "\n",
    "#We use annotate to write the percentage values on top of each bar!\n",
    "for p in ax.patches: \n",
    "    ax.annotate(np.round(p.get_height(),decimals=2), \n",
    "    (p.get_x()+p.get_width()/2., p.get_height()), \n",
    "    ha='center', va='center', xytext=(0, 10), \n",
    "    textcoords='offset points')\n",
    "    \n",
    "ax"
   ]
  },
  {
   "cell_type": "markdown",
   "metadata": {},
   "source": [
    "## There you have it, have fun!"
   ]
  },
  {
   "cell_type": "code",
   "execution_count": null,
   "metadata": {},
   "outputs": [],
   "source": []
  }
 ],
 "metadata": {
  "kernelspec": {
   "display_name": "Python 3",
   "language": "python",
   "name": "python3"
  },
  "language_info": {
   "codemirror_mode": {
    "name": "ipython",
    "version": 3
   },
   "file_extension": ".py",
   "mimetype": "text/x-python",
   "name": "python",
   "nbconvert_exporter": "python",
   "pygments_lexer": "ipython3",
   "version": "3.7.4"
  }
 },
 "nbformat": 4,
 "nbformat_minor": 2
}
